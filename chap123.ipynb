{
 "cells": [
  {
   "cell_type": "markdown",
   "metadata": {},
   "source": [
    "##Drawing Functions in OpenCV"
   ]
  },
  {
   "cell_type": "code",
   "execution_count": 3,
   "metadata": {},
   "outputs": [],
   "source": [
    "import numpy as np\n",
    "import cv2"
   ]
  },
  {
   "cell_type": "code",
   "execution_count": 4,
   "metadata": {},
   "outputs": [],
   "source": [
    "# Create a black image\n",
    "img = np.zeros((512,512,3), np.uint8) #zeros 함수는 모든 픽셀 값이 0인 새로운 배열(이미지) 생성\n",
    "#이미지 크기 지정(512, 512) 3은 색상 채널(R,G,B) 그 중 B\n",
    "#unit은 8비트의 정수형 데이터\n",
    "# Draw a diagonal blue line with thickness of 5 px\n",
    "img = cv2.line(img,(0,0),(511,511),(255,0,0),5)\n",
    "# line함수는 이미지를 수정하여 선을 그림\n",
    "# 0,0은 좌상단 코너 , 511,511은 우하단 코너, 255,0,0은 선의 색상(파란색)\n",
    "#5는 선의 두께\n"
   ]
  },
  {
   "cell_type": "code",
   "execution_count": 5,
   "metadata": {},
   "outputs": [],
   "source": [
    "img = cv2.rectangle(img,(384,0),(510,128),(0,255,0),3)\n"
   ]
  },
  {
   "cell_type": "code",
   "execution_count": 6,
   "metadata": {},
   "outputs": [],
   "source": [
    "img = cv2.circle(img,(447,63), 63, (0,0,255), -1)\n",
    "#원의 중심 좌표 447, 63\n",
    "# 63은 원의 반지름\n"
   ]
  },
  {
   "cell_type": "code",
   "execution_count": 11,
   "metadata": {},
   "outputs": [],
   "source": [
    "img = cv2.ellipse(img,(256,256),(100,50),0,0,360,255,2)\n",
    "#256,256은 타원의 중심 좌표\n",
    "#100,50 타원의 반지름\n",
    "#0은 회전각도, 0은 그리기의 시작 각도\n",
    "#360은 그리기의 끝 각도(전체적으로 그리겠다)\n",
    "#255은 색상상"
   ]
  },
  {
   "cell_type": "code",
   "execution_count": 12,
   "metadata": {},
   "outputs": [],
   "source": [
    "cv2.imshow('image',img)\n",
    "k = cv2.waitKey(0)\n",
    "if k == 27: # wait for ESC key to exit\n",
    "    cv2.destroyAllWindows()\n",
    "elif k == ord('s'): # wait for 's' key to save and exit\n",
    "    cv2.imwrite('pic.png',img)\n",
    "    cv2.destroyAllWindows()\n"
   ]
  },
  {
   "cell_type": "code",
   "execution_count": 14,
   "metadata": {},
   "outputs": [
    {
     "data": {
      "image/png": "[encoded data removed]",
      "text/plain": [
       "<Figure size 640x480 with 1 Axes>"
      ]
     },
     "metadata": {},
     "output_type": "display_data"
    }
   ],
   "source": [
    "from matplotlib import pyplot as plt\n",
    "img = cv2.imread('pic.png',1)\n",
    "plt.imshow(img, cmap = 'gray', interpolation = 'bicubic')\n",
    "#cmap은 이미지를 그레이로, interpolation은 부드러운 보간 방법 중 하나 조정\n",
    "plt.xticks([]), plt.yticks([]) # to hide tick values on X and Y axis\n",
    "plt.show()"
   ]
  }
 ],
 "metadata": {
  "kernelspec": {
   "display_name": "IP2024",
   "language": "python",
   "name": "python3"
  },
  "language_info": {
   "codemirror_mode": {
    "name": "ipython",
    "version": 3
   },
   "file_extension": ".py",
   "mimetype": "text/x-python",
   "name": "python",
   "nbconvert_exporter": "python",
   "pygments_lexer": "ipython3",
   "version": "3.8.19"
  }
 },
 "nbformat": 4,
 "nbformat_minor": 2
}
