{
 "cells": [
  {
   "cell_type": "code",
   "execution_count": 1,
   "metadata": {},
   "outputs": [],
   "source": [
    "import numpy as np\n",
    "import cv2"
   ]
  },
  {
   "cell_type": "code",
   "execution_count": 2,
   "metadata": {},
   "outputs": [],
   "source": [
    "cap = cv2.VideoCapture(0) #컴퓨터 기본 웹캠을 열어 영상을 캡쳐하는 객체 생성\n",
    "while(True):\n",
    "# Capture frame-by-frame\n",
    "    ret, frame = cap.read() #못 읽어오면 ret, 읽어오면 frame, ret은 프레임을 제대로 읽어왔는지\n",
    "    # frame은 실제로 캡처된 이미지(프레임)\n",
    "# Our operations on the frame come here\n",
    "    gray = cv2.cvtColor(frame, cv2.COLOR_BGR2GRAY)\n",
    "    #cvtColor함수는 프레임을 BGR 색상 중 그레이 컬러로 변환\n",
    "# Display the resulting frame\n",
    "    cv2.imshow('frame',gray)\n",
    "    if cv2.waitKey(1) & 0xFF == ord('q'): #1밀리로 동안 키입력 대기\n",
    "        break\n",
    "# When everything done, release the capture\n",
    "cap.release() #웹캠 해제 후 사용 종료\n",
    "cv2.destroyAllWindows()"
   ]
  },
  {
   "cell_type": "code",
   "execution_count": 2,
   "metadata": {},
   "outputs": [],
   "source": [
    "import numpy as np\n",
    "import cv2"
   ]
  },
  {
   "cell_type": "code",
   "execution_count": 14,
   "metadata": {},
   "outputs": [],
   "source": [
    "cap = cv2.VideoCapture('earth.avi') #earth.avi 파일 프레임을 읽어와 재생 준비 객체 생성\n",
    "while(cap.isOpened()): #파일이 열려있는동안 무한루프, 파일이 정상적으로 열려있으면 True반환\n",
    "    ret, frame = cap.read()\n",
    "    gray = cv2.cvtColor(frame, cv2.COLOR_BGR2GRAY)\n",
    "    cv2.imshow('frame',frame)\n",
    "    if cv2.waitKey(1) & 0xFF == ord('q'):\n",
    "        break\n",
    "cap.release()\n",
    "cv2.destroyAllWindows()"
   ]
  },
  {
   "cell_type": "code",
   "execution_count": 23,
   "metadata": {},
   "outputs": [],
   "source": [
    "import numpy as np\n",
    "import cv2\n"
   ]
  },
  {
   "cell_type": "code",
   "execution_count": 24,
   "metadata": {},
   "outputs": [],
   "source": [
    "cap = cv2.VideoCapture(0) #0은 기본 웹캠 지칭, 비디오 캡처 시작\n",
    "fourcc = cv2.VideoWriter_fourcc(*'XVID') #코덱 설정, XVID는 비디오 압축 형식을 정의하는 코덱\n",
    "out = cv2.VideoWriter('output.avi',fourcc, 20.0, (640,480)) #fourcc는 코덱 설정, 20.0은 프레임 속도, 그다음 비디오 해상도\n",
    "while(cap.isOpened()):\n",
    "    ret, frame = cap.read()\n",
    "    if ret==True: #프레임을 제대로 읽어온경우\n",
    "        frame = cv2.flip(frame,0) #flip함수로 프레임을 수직으로 뒤집는다. 0은 수직 방향으로 뒤집는 걸 의미\n",
    "# write the flipped frame\n",
    "        out.write(frame) #플립된 프레임을 output.avi에 저장\n",
    "        cv2.imshow('frame',frame)\n",
    "    if cv2.waitKey(1) & 0xFF == ord('q'):\n",
    "        break\n",
    "    else:\n",
    "        break\n",
    "# Release everything if job is finished\n",
    "cap.release()\n",
    "out.release()\n",
    "cv2.destroyAllWindows()"
   ]
  }
 ],
 "metadata": {
  "kernelspec": {
   "display_name": "IP2024",
   "language": "python",
   "name": "python3"
  },
  "language_info": {
   "codemirror_mode": {
    "name": "ipython",
    "version": 3
   },
   "file_extension": ".py",
   "mimetype": "text/x-python",
   "name": "python",
   "nbconvert_exporter": "python",
   "pygments_lexer": "ipython3",
   "version": "3.8.19"
  }
 },
 "nbformat": 4,
 "nbformat_minor": 2
}
