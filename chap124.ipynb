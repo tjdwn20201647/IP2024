{
 "cells": [
  {
   "cell_type": "code",
   "execution_count": 1,
   "metadata": {},
   "outputs": [],
   "source": [
    "import cv2\n",
    "import numpy as np"
   ]
  },
  {
   "cell_type": "code",
   "execution_count": 9,
   "metadata": {},
   "outputs": [],
   "source": [
    "# mouse callback function\n",
    "def draw_circle(event,x,y,flags,param): #발생한 마우스 이벤트 종류를 나타냄(클릭, 이동 등)\n",
    "    if event == cv2.EVENT_LBUTTONDBLCLK:\n",
    "        cv2.circle(img,(x,y),5,(255,0,0),-1) #x,y 좌표에 반지름 5인 파란색 원, -1은 채워진 원\n",
    "    elif event == cv2.EVENT_MOUSEMOVE:\n",
    "        cv2.circle(img,(x,y),0,(255,0,0),-1)\n",
    "    elif event == cv2.EVENT_RBUTTONDBLCLK:\n",
    "        cv2.circle(img,(x,y),7,(255,0,0),-1)\n",
    "    elif event == cv2.EVENT_MBUTTONDBLCLK:\n",
    "        cv2.circle(img,(x,y),2,(255,0,0),-1)\n"
   ]
  },
  {
   "cell_type": "code",
   "execution_count": 8,
   "metadata": {},
   "outputs": [],
   "source": [
    "# Create a black image, a window and bind the function to window\n",
    "img = np.zeros((512,512,3), np.uint8) #512*512 크기 검은색 RGB이미지 생성, 모든 픽셀 값 0으로 초기화\n",
    "cv2.namedWindow('image') #image라는 이름의 윈도우 생성\n",
    "cv2.setMouseCallback('image',draw_circle) #image는 윈도우에서 발생하는 마우스 이벤트를 처리할 콜백함수, 마우스 클릭 이동시 호출\n",
    "while(1):\n",
    "    cv2.imshow('image',img)\n",
    "    if cv2.waitKey(20) & 0xFF == 27:\n",
    "        break\n",
    "cv2.destroyAllWindows()"
   ]
  },
  {
   "cell_type": "code",
   "execution_count": 5,
   "metadata": {},
   "outputs": [
    {
     "name": "stdout",
     "output_type": "stream",
     "text": [
      "['EVENT_FLAG_ALTKEY', 'EVENT_FLAG_CTRLKEY', 'EVENT_FLAG_LBUTTON', 'EVENT_FLAG_MBUTTON', 'EVENT_FLAG_RBUTTON', 'EVENT_FLAG_SHIFTKEY', 'EVENT_LBUTTONDBLCLK', 'EVENT_LBUTTONDOWN', 'EVENT_LBUTTONUP', 'EVENT_MBUTTONDBLCLK', 'EVENT_MBUTTONDOWN', 'EVENT_MBUTTONUP', 'EVENT_MOUSEHWHEEL', 'EVENT_MOUSEMOVE', 'EVENT_MOUSEWHEEL', 'EVENT_RBUTTONDBLCLK', 'EVENT_RBUTTONDOWN', 'EVENT_RBUTTONUP']\n"
     ]
    }
   ],
   "source": [
    "import cv2\n",
    "events = [i for i in dir(cv2) if 'EVENT' in i]\n",
    "print(events)\n",
    "#div(cv2)는 cv2 모듈에 정의된 모든 속성의 리스트를 반환\n",
    "#EVENT라는 문자열이 포함된 속성 이름만 필터링\n"
   ]
  },
  {
   "cell_type": "code",
   "execution_count": 14,
   "metadata": {},
   "outputs": [],
   "source": [
    "import cv2\n",
    "import numpy as np"
   ]
  },
  {
   "cell_type": "code",
   "execution_count": 15,
   "metadata": {},
   "outputs": [],
   "source": [
    "drawing = False # true if mouse is pressed\n",
    "mode = True # if True, draw rectangle. Press 'm' to toggle to curve\n",
    "#mode는 그림 그리기 모드 설정, True일경우 사각형을 그리는 모드, False일경우 곡선\n",
    "ix,iy = -1,-1 #마우스 클릭 시작 위치 저장, -1로 설정은 유효한 좌표가 없음을 의미, 클릭해야 의미잇음\n"
   ]
  },
  {
   "cell_type": "code",
   "execution_count": 18,
   "metadata": {},
   "outputs": [],
   "source": [
    "# mouse callback function\n",
    "def draw_circle(event,x,y,flags,param):\n",
    "    global ix,iy,drawing,mode\n",
    "    if event == cv2.EVENT_LBUTTONDOWN:\n",
    "        drawing = True\n",
    "        ix,iy = x,y\n",
    "    elif event == cv2.EVENT_MOUSEMOVE:\n",
    "        if drawing == True:\n",
    "            if mode == True:\n",
    "                cv2.rectangle(img,(ix,iy),(x,y),(0,255,0),3)\n",
    "        else:\n",
    "            cv2.circle(img,(x,y),5,(0,0,255),-1)\n",
    "    elif event == cv2.EVENT_LBUTTONUP:\n",
    "        drawing = False #왼쪽버튼을 누르면 False로 도형 그리기 종료, 최종적으로 사각형이나 원 생성\n",
    "        if mode == True:\n",
    "            cv2.rectangle(img,(ix,iy),(x,y),(0,255,0),-1)\n",
    "        else:\n",
    "            cv2.circle(img,(x,y),5,(0,0,255),-1)\n",
    "    elif event == cv2.EVENT_LBUTTONDBLCLK:\n",
    "        cv2.rectangle(img,(0,0),(500,500),(0,0,0),-1)\n",
    "        #더블 클릭시 0,0에서 500,500까지 검은색으로 채움, 전체 이미지 영역 검은색 덮기"
   ]
  },
  {
   "cell_type": "code",
   "execution_count": 17,
   "metadata": {},
   "outputs": [],
   "source": [
    "img = np.zeros((512,512,3), np.uint8)\n",
    "cv2.namedWindow('image')\n",
    "cv2.setMouseCallback('image',draw_circle)\n",
    "while(1):\n",
    "    cv2.imshow('image',img)\n",
    "    k = cv2.waitKey(1) & 0xFF\n",
    "    if k == ord('m'): #m을 누르면 mode 변수를 반전시켜 도형 모드를 전환, True이면 사각형 False이면 원모드\n",
    "        mode = not mode\n",
    "    elif k == 27:\n",
    "        break\n",
    "cv2.destroyAllWindows()"
   ]
  }
 ],
 "metadata": {
  "kernelspec": {
   "display_name": "IP2024",
   "language": "python",
   "name": "python3"
  },
  "language_info": {
   "codemirror_mode": {
    "name": "ipython",
    "version": 3
   },
   "file_extension": ".py",
   "mimetype": "text/x-python",
   "name": "python",
   "nbconvert_exporter": "python",
   "pygments_lexer": "ipython3",
   "version": "3.8.19"
  }
 },
 "nbformat": 4,
 "nbformat_minor": 2
}
