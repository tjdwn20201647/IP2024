{
 "cells": [
  {
   "cell_type": "code",
   "execution_count": 154,
   "metadata": {},
   "outputs": [],
   "source": [
    "#youtube url = https://youtu.be/3ocsQiwy5cQ\n",
    "import cv2\n",
    "import numpy as np\n",
    "from matplotlib import pyplot as plt"
   ]
  },
  {
   "cell_type": "code",
   "execution_count": 155,
   "metadata": {},
   "outputs": [],
   "source": [
    "def nothing(x):\n",
    "    pass"
   ]
  },
  {
   "cell_type": "code",
   "execution_count": 156,
   "metadata": {},
   "outputs": [],
   "source": [
    "drawing = False  # 마우스 버튼이 눌렸는지 여부\n",
    "ix, iy = -1, -1  # 초기 좌표 값\n",
    "rect_coords = None  # 그린 사각형의 좌표를 저장\n",
    "\n",
    "# 이미지 로드 및 복사\n",
    "img = cv2.imread('mountain.jpg')\n",
    "img_copy = img.copy()\n",
    "# 마우스 콜백 함수\n",
    "def draw_circle(event, x, y, flags, param):\n",
    "    global ix, iy, drawing, img_copy, rect_coords\n",
    "\n",
    "    if event == cv2.EVENT_LBUTTONDOWN:\n",
    "        drawing = True\n",
    "        ix, iy = x, y\n",
    "\n",
    "        \n",
    "    # 마우스가 움직일 때, 사각형을 그리고 내부를 붉게 표시\n",
    "    elif event == cv2.EVENT_MOUSEMOVE:\n",
    "        if drawing:\n",
    "            img_copy = img.copy()  # 원본 이미지로 복원\n",
    "            overlay = img.copy()  # 오버레이 이미지 생성\n",
    "            cv2.rectangle(img_copy, (ix, iy), (x, y), (0, 0, 240), 2)  # 사각형을 적외선 색상으로\n",
    "            alpha = 0.3  # 투명도 설정\n",
    "            cv2.addWeighted(overlay, alpha, img, 1 - alpha, 0, img)  # 적외선 효과 적용\n",
    "            cv2.putText(img_copy, f'Mouse Position: ({ix}, {iy}) - ({x}, {y})', \n",
    "                        (10, 50), cv2.FONT_HERSHEY_SIMPLEX, 0.7, (255, 255, 255), 1, cv2.LINE_AA)\n",
    "\n",
    "    # 마우스 버튼을 뗐을 때, 사각형 내부를 붉게 유지\n",
    "    elif event == cv2.EVENT_LBUTTONUP:\n",
    "        drawing = False\n",
    "        rect_coords = (ix, iy, x, y)  # 사각형의 좌표 저장\n",
    "        overlay = img.copy()  # 오버레이 이미지 생성\n",
    "        cv2.rectangle(overlay, (ix, iy), (x, y), (0, 0, 240), -1)  # 적외선 색상으로 사각형 내부 채우기\n",
    "        alpha = 0.3  # 투명도 설정\n",
    "        cv2.addWeighted(overlay, alpha, img, 1 - alpha, 0, img)  # 적외선 효과 적용\n",
    "        cv2.putText(img, f'Mouse Position: ({ix}, {iy}) - ({x}, {y})', \n",
    "                    (10, 50), cv2.FONT_HERSHEY_SIMPLEX, 0.7, (255, 255, 255), 1, cv2.LINE_AA)\n",
    "\n",
    "\n"
   ]
  },
  {
   "cell_type": "code",
   "execution_count": 157,
   "metadata": {},
   "outputs": [],
   "source": [
    "cv2.namedWindow('image')\n",
    "cv2.setMouseCallback('image', draw_circle)\n",
    "\n",
    "# 트랙바 이름을 \"value\"로 변경\n",
    "cv2.createTrackbar('value', 'image', 0, 10, nothing)\n",
    "while True:\n",
    "    # 사각형이 그려졌을 때 트랙바 값에 따른 처리\n",
    "    if rect_coords:\n",
    "        x1, y1, x2, y2 = rect_coords\n",
    "        img_display = img.copy()  # 원본 이미지 복사\n",
    "        # 트랙바 값 가져오기\n",
    "        m = cv2.getTrackbarPos('value', 'image')\n",
    "        # 사각형 내부를 선명하게 처리\n",
    "        if m >= 0:\n",
    "            sharp_area = cv2.GaussianBlur(img[y1:y2, x1:x2], (0, 0), max(1, 10 - m))  # 선명도 조절\n",
    "            img_display[y1:y2, x1:x2] = sharp_area\n",
    "        # 사각형 테두리와 텍스트 유지\n",
    "        cv2.rectangle(img_display, (x1, y1), (x2, y2), (0, 0, 240), 2)\n",
    "        cv2.putText(img_display, f'Mouse Position: ({x1}, {y1}) - ({x2}, {y2})', \n",
    "                    (10, 50), cv2.FONT_HERSHEY_SIMPLEX, 0.7, (255, 255, 255), 1, cv2.LINE_AA)\n",
    "        cv2.imshow('image', img_display)\n",
    "    else:\n",
    "        cv2.imshow('image', img_copy)\n",
    "\n",
    "    # ESC를 누르면 종료\n",
    "    if cv2.waitKey(1) & 0xFF == 27:\n",
    "        break\n",
    "\n",
    "cv2.destroyAllWindows()"
   ]
  }
 ],
 "metadata": {
  "kernelspec": {
   "display_name": "IP2024",
   "language": "python",
   "name": "python3"
  },
  "language_info": {
   "codemirror_mode": {
    "name": "ipython",
    "version": 3
   },
   "file_extension": ".py",
   "mimetype": "text/x-python",
   "name": "python",
   "nbconvert_exporter": "python",
   "pygments_lexer": "ipython3",
   "version": "3.8.19"
  }
 },
 "nbformat": 4,
 "nbformat_minor": 2
}
